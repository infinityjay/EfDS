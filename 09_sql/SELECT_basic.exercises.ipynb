{
 "cells": [
  {
   "cell_type": "markdown",
   "id": "418dbc66",
   "metadata": {},
   "source": [
    "# SQL querying and selecting data (exercises)"
   ]
  },
  {
   "cell_type": "markdown",
   "id": "e710fd5e",
   "metadata": {},
   "source": [
    "## Preparation"
   ]
  },
  {
   "cell_type": "markdown",
   "id": "fc48115f",
   "metadata": {},
   "source": [
    "For this section you need `chinook.db` database file and working `%sql` magic.  \n",
    "If you don't have it, please go back to the [previous section](connect_to_database.ipynb) and follow the instructions.  \n",
    "The following code should not produce any errors:"
   ]
  },
  {
   "cell_type": "code",
   "execution_count": 1,
   "id": "43aaa7d6",
   "metadata": {},
   "outputs": [],
   "source": [
    "%load_ext sql\n",
    "%sql sqlite:///chinook.db"
   ]
  },
  {
   "cell_type": "markdown",
   "id": "173858f6",
   "metadata": {},
   "source": [
    "## Exercise: biggest tracks"
   ]
  },
  {
   "cell_type": "markdown",
   "id": "2782b529",
   "metadata": {},
   "source": [
    "Print (select) the top 10 biggest `tracks` according to size in `Bytes` column."
   ]
  },
  {
   "cell_type": "code",
   "execution_count": 5,
   "id": "7d17bdc4",
   "metadata": {},
   "outputs": [
    {
     "name": "stdout",
     "output_type": "stream",
     "text": [
      " * sqlite:///chinook.db\n",
      "Done.\n"
     ]
    },
    {
     "data": {
      "text/html": [
       "<table>\n",
       "    <thead>\n",
       "        <tr>\n",
       "            <th>TrackId</th>\n",
       "            <th>Name</th>\n",
       "            <th>AlbumId</th>\n",
       "            <th>MediaTypeId</th>\n",
       "            <th>GenreId</th>\n",
       "            <th>Composer</th>\n",
       "            <th>Milliseconds</th>\n",
       "            <th>Bytes</th>\n",
       "            <th>UnitPrice</th>\n",
       "        </tr>\n",
       "    </thead>\n",
       "    <tbody>\n",
       "        <tr>\n",
       "            <td>3224</td>\n",
       "            <td>Through a Looking Glass</td>\n",
       "            <td>229</td>\n",
       "            <td>3</td>\n",
       "            <td>21</td>\n",
       "            <td>None</td>\n",
       "            <td>5088838</td>\n",
       "            <td>1059546140</td>\n",
       "            <td>1.99</td>\n",
       "        </tr>\n",
       "        <tr>\n",
       "            <td>2820</td>\n",
       "            <td>Occupation / Precipice</td>\n",
       "            <td>227</td>\n",
       "            <td>3</td>\n",
       "            <td>19</td>\n",
       "            <td>None</td>\n",
       "            <td>5286953</td>\n",
       "            <td>1054423946</td>\n",
       "            <td>1.99</td>\n",
       "        </tr>\n",
       "        <tr>\n",
       "            <td>3236</td>\n",
       "            <td>The Young Lords</td>\n",
       "            <td>253</td>\n",
       "            <td>3</td>\n",
       "            <td>20</td>\n",
       "            <td>None</td>\n",
       "            <td>2863571</td>\n",
       "            <td>587051735</td>\n",
       "            <td>1.99</td>\n",
       "        </tr>\n",
       "        <tr>\n",
       "            <td>3242</td>\n",
       "            <td>The Man With Nine Lives</td>\n",
       "            <td>253</td>\n",
       "            <td>3</td>\n",
       "            <td>20</td>\n",
       "            <td>None</td>\n",
       "            <td>2956998</td>\n",
       "            <td>577829804</td>\n",
       "            <td>1.99</td>\n",
       "        </tr>\n",
       "        <tr>\n",
       "            <td>2910</td>\n",
       "            <td>Dave</td>\n",
       "            <td>231</td>\n",
       "            <td>3</td>\n",
       "            <td>19</td>\n",
       "            <td>None</td>\n",
       "            <td>2825166</td>\n",
       "            <td>574325829</td>\n",
       "            <td>1.99</td>\n",
       "        </tr>\n",
       "        <tr>\n",
       "            <td>3235</td>\n",
       "            <td>The Magnificent Warriors</td>\n",
       "            <td>253</td>\n",
       "            <td>3</td>\n",
       "            <td>20</td>\n",
       "            <td>None</td>\n",
       "            <td>2924716</td>\n",
       "            <td>570152232</td>\n",
       "            <td>1.99</td>\n",
       "        </tr>\n",
       "        <tr>\n",
       "            <td>3231</td>\n",
       "            <td>The Lost Warrior</td>\n",
       "            <td>253</td>\n",
       "            <td>3</td>\n",
       "            <td>20</td>\n",
       "            <td>None</td>\n",
       "            <td>2920045</td>\n",
       "            <td>558872190</td>\n",
       "            <td>1.99</td>\n",
       "        </tr>\n",
       "        <tr>\n",
       "            <td>2902</td>\n",
       "            <td>Maternity Leave</td>\n",
       "            <td>231</td>\n",
       "            <td>3</td>\n",
       "            <td>21</td>\n",
       "            <td>None</td>\n",
       "            <td>2780416</td>\n",
       "            <td>555244214</td>\n",
       "            <td>1.99</td>\n",
       "        </tr>\n",
       "        <tr>\n",
       "            <td>3228</td>\n",
       "            <td>Battlestar Galactica, Pt. 3</td>\n",
       "            <td>253</td>\n",
       "            <td>3</td>\n",
       "            <td>20</td>\n",
       "            <td>None</td>\n",
       "            <td>2927802</td>\n",
       "            <td>554509033</td>\n",
       "            <td>1.99</td>\n",
       "        </tr>\n",
       "        <tr>\n",
       "            <td>2832</td>\n",
       "            <td>The Woman King</td>\n",
       "            <td>227</td>\n",
       "            <td>3</td>\n",
       "            <td>18</td>\n",
       "            <td>None</td>\n",
       "            <td>2626376</td>\n",
       "            <td>552893447</td>\n",
       "            <td>1.99</td>\n",
       "        </tr>\n",
       "    </tbody>\n",
       "</table>"
      ],
      "text/plain": [
       "[(3224, 'Through a Looking Glass', 229, 3, 21, None, 5088838, 1059546140, 1.99),\n",
       " (2820, 'Occupation / Precipice', 227, 3, 19, None, 5286953, 1054423946, 1.99),\n",
       " (3236, 'The Young Lords', 253, 3, 20, None, 2863571, 587051735, 1.99),\n",
       " (3242, 'The Man With Nine Lives', 253, 3, 20, None, 2956998, 577829804, 1.99),\n",
       " (2910, 'Dave', 231, 3, 19, None, 2825166, 574325829, 1.99),\n",
       " (3235, 'The Magnificent Warriors', 253, 3, 20, None, 2924716, 570152232, 1.99),\n",
       " (3231, 'The Lost Warrior', 253, 3, 20, None, 2920045, 558872190, 1.99),\n",
       " (2902, 'Maternity Leave', 231, 3, 21, None, 2780416, 555244214, 1.99),\n",
       " (3228, 'Battlestar Galactica, Pt. 3', 253, 3, 20, None, 2927802, 554509033, 1.99),\n",
       " (2832, 'The Woman King', 227, 3, 18, None, 2626376, 552893447, 1.99)]"
      ]
     },
     "execution_count": 5,
     "metadata": {},
     "output_type": "execute_result"
    }
   ],
   "source": [
    "%sql SELECT * FROM tracks ORDER BY Bytes DESC LIMIT 10"
   ]
  },
  {
   "cell_type": "markdown",
   "id": "b53b734f",
   "metadata": {},
   "source": [
    "## Exercise: simple filtering"
   ]
  },
  {
   "cell_type": "markdown",
   "id": "b5de19c1",
   "metadata": {},
   "source": [
    "Write statements to get `tracks` with: the `AlbumId` equal to `1` and the `Bytes` length greater than 200,000 milliseconds."
   ]
  },
  {
   "cell_type": "code",
   "execution_count": 7,
   "id": "ff2daf05",
   "metadata": {},
   "outputs": [
    {
     "name": "stdout",
     "output_type": "stream",
     "text": [
      " * sqlite:///chinook.db\n",
      "Done.\n"
     ]
    },
    {
     "data": {
      "text/html": [
       "<table>\n",
       "    <thead>\n",
       "        <tr>\n",
       "            <th>TrackId</th>\n",
       "            <th>Name</th>\n",
       "            <th>AlbumId</th>\n",
       "            <th>MediaTypeId</th>\n",
       "            <th>GenreId</th>\n",
       "            <th>Composer</th>\n",
       "            <th>Milliseconds</th>\n",
       "            <th>Bytes</th>\n",
       "            <th>UnitPrice</th>\n",
       "        </tr>\n",
       "    </thead>\n",
       "    <tbody>\n",
       "        <tr>\n",
       "            <td>1</td>\n",
       "            <td>For Those About To Rock (We Salute You)</td>\n",
       "            <td>1</td>\n",
       "            <td>1</td>\n",
       "            <td>1</td>\n",
       "            <td>Angus Young, Malcolm Young, Brian Johnson</td>\n",
       "            <td>343719</td>\n",
       "            <td>11170334</td>\n",
       "            <td>0.99</td>\n",
       "        </tr>\n",
       "        <tr>\n",
       "            <td>6</td>\n",
       "            <td>Put The Finger On You</td>\n",
       "            <td>1</td>\n",
       "            <td>1</td>\n",
       "            <td>1</td>\n",
       "            <td>Angus Young, Malcolm Young, Brian Johnson</td>\n",
       "            <td>205662</td>\n",
       "            <td>6713451</td>\n",
       "            <td>0.99</td>\n",
       "        </tr>\n",
       "        <tr>\n",
       "            <td>7</td>\n",
       "            <td>Let&#x27;s Get It Up</td>\n",
       "            <td>1</td>\n",
       "            <td>1</td>\n",
       "            <td>1</td>\n",
       "            <td>Angus Young, Malcolm Young, Brian Johnson</td>\n",
       "            <td>233926</td>\n",
       "            <td>7636561</td>\n",
       "            <td>0.99</td>\n",
       "        </tr>\n",
       "        <tr>\n",
       "            <td>8</td>\n",
       "            <td>Inject The Venom</td>\n",
       "            <td>1</td>\n",
       "            <td>1</td>\n",
       "            <td>1</td>\n",
       "            <td>Angus Young, Malcolm Young, Brian Johnson</td>\n",
       "            <td>210834</td>\n",
       "            <td>6852860</td>\n",
       "            <td>0.99</td>\n",
       "        </tr>\n",
       "        <tr>\n",
       "            <td>9</td>\n",
       "            <td>Snowballed</td>\n",
       "            <td>1</td>\n",
       "            <td>1</td>\n",
       "            <td>1</td>\n",
       "            <td>Angus Young, Malcolm Young, Brian Johnson</td>\n",
       "            <td>203102</td>\n",
       "            <td>6599424</td>\n",
       "            <td>0.99</td>\n",
       "        </tr>\n",
       "        <tr>\n",
       "            <td>10</td>\n",
       "            <td>Evil Walks</td>\n",
       "            <td>1</td>\n",
       "            <td>1</td>\n",
       "            <td>1</td>\n",
       "            <td>Angus Young, Malcolm Young, Brian Johnson</td>\n",
       "            <td>263497</td>\n",
       "            <td>8611245</td>\n",
       "            <td>0.99</td>\n",
       "        </tr>\n",
       "        <tr>\n",
       "            <td>11</td>\n",
       "            <td>C.O.D.</td>\n",
       "            <td>1</td>\n",
       "            <td>1</td>\n",
       "            <td>1</td>\n",
       "            <td>Angus Young, Malcolm Young, Brian Johnson</td>\n",
       "            <td>199836</td>\n",
       "            <td>6566314</td>\n",
       "            <td>0.99</td>\n",
       "        </tr>\n",
       "        <tr>\n",
       "            <td>12</td>\n",
       "            <td>Breaking The Rules</td>\n",
       "            <td>1</td>\n",
       "            <td>1</td>\n",
       "            <td>1</td>\n",
       "            <td>Angus Young, Malcolm Young, Brian Johnson</td>\n",
       "            <td>263288</td>\n",
       "            <td>8596840</td>\n",
       "            <td>0.99</td>\n",
       "        </tr>\n",
       "        <tr>\n",
       "            <td>13</td>\n",
       "            <td>Night Of The Long Knives</td>\n",
       "            <td>1</td>\n",
       "            <td>1</td>\n",
       "            <td>1</td>\n",
       "            <td>Angus Young, Malcolm Young, Brian Johnson</td>\n",
       "            <td>205688</td>\n",
       "            <td>6706347</td>\n",
       "            <td>0.99</td>\n",
       "        </tr>\n",
       "        <tr>\n",
       "            <td>14</td>\n",
       "            <td>Spellbound</td>\n",
       "            <td>1</td>\n",
       "            <td>1</td>\n",
       "            <td>1</td>\n",
       "            <td>Angus Young, Malcolm Young, Brian Johnson</td>\n",
       "            <td>270863</td>\n",
       "            <td>8817038</td>\n",
       "            <td>0.99</td>\n",
       "        </tr>\n",
       "    </tbody>\n",
       "</table>"
      ],
      "text/plain": [
       "[(1, 'For Those About To Rock (We Salute You)', 1, 1, 1, 'Angus Young, Malcolm Young, Brian Johnson', 343719, 11170334, 0.99),\n",
       " (6, 'Put The Finger On You', 1, 1, 1, 'Angus Young, Malcolm Young, Brian Johnson', 205662, 6713451, 0.99),\n",
       " (7, \"Let's Get It Up\", 1, 1, 1, 'Angus Young, Malcolm Young, Brian Johnson', 233926, 7636561, 0.99),\n",
       " (8, 'Inject The Venom', 1, 1, 1, 'Angus Young, Malcolm Young, Brian Johnson', 210834, 6852860, 0.99),\n",
       " (9, 'Snowballed', 1, 1, 1, 'Angus Young, Malcolm Young, Brian Johnson', 203102, 6599424, 0.99),\n",
       " (10, 'Evil Walks', 1, 1, 1, 'Angus Young, Malcolm Young, Brian Johnson', 263497, 8611245, 0.99),\n",
       " (11, 'C.O.D.', 1, 1, 1, 'Angus Young, Malcolm Young, Brian Johnson', 199836, 6566314, 0.99),\n",
       " (12, 'Breaking The Rules', 1, 1, 1, 'Angus Young, Malcolm Young, Brian Johnson', 263288, 8596840, 0.99),\n",
       " (13, 'Night Of The Long Knives', 1, 1, 1, 'Angus Young, Malcolm Young, Brian Johnson', 205688, 6706347, 0.99),\n",
       " (14, 'Spellbound', 1, 1, 1, 'Angus Young, Malcolm Young, Brian Johnson', 270863, 8817038, 0.99)]"
      ]
     },
     "execution_count": 7,
     "metadata": {},
     "output_type": "execute_result"
    }
   ],
   "source": [
    "%sql SELECT * FROM tracks WHERE AlbumId = 1 AND Bytes > 200000"
   ]
  },
  {
   "cell_type": "markdown",
   "id": "c4377cc4",
   "metadata": {},
   "source": [
    "## Exercise: filter with `IN`"
   ]
  },
  {
   "cell_type": "markdown",
   "id": "14475996",
   "metadata": {},
   "source": [
    "Return `customers` from `State` of `FL` (Florida), `WA` (Washington), `CA` (California).  \n",
    "Use `IN`, not `AND`."
   ]
  },
  {
   "cell_type": "code",
   "execution_count": 12,
   "id": "ff10413a",
   "metadata": {},
   "outputs": [
    {
     "name": "stdout",
     "output_type": "stream",
     "text": [
      " * sqlite:///chinook.db\n",
      "Done.\n"
     ]
    },
    {
     "data": {
      "text/html": [
       "<table>\n",
       "    <thead>\n",
       "        <tr>\n",
       "            <th>CustomerId</th>\n",
       "            <th>FirstName</th>\n",
       "            <th>LastName</th>\n",
       "            <th>Company</th>\n",
       "            <th>Address</th>\n",
       "            <th>City</th>\n",
       "            <th>State</th>\n",
       "            <th>Country</th>\n",
       "            <th>PostalCode</th>\n",
       "            <th>Phone</th>\n",
       "            <th>Fax</th>\n",
       "            <th>Email</th>\n",
       "            <th>SupportRepId</th>\n",
       "        </tr>\n",
       "    </thead>\n",
       "    <tbody>\n",
       "        <tr>\n",
       "            <td>16</td>\n",
       "            <td>Frank</td>\n",
       "            <td>Harris</td>\n",
       "            <td>Google Inc.</td>\n",
       "            <td>1600 Amphitheatre Parkway</td>\n",
       "            <td>Mountain View</td>\n",
       "            <td>CA</td>\n",
       "            <td>USA</td>\n",
       "            <td>94043-1351</td>\n",
       "            <td>+1 (650) 253-0000</td>\n",
       "            <td>+1 (650) 253-0000</td>\n",
       "            <td>fharris@google.com</td>\n",
       "            <td>4</td>\n",
       "        </tr>\n",
       "        <tr>\n",
       "            <td>17</td>\n",
       "            <td>Jack</td>\n",
       "            <td>Smith</td>\n",
       "            <td>Microsoft Corporation</td>\n",
       "            <td>1 Microsoft Way</td>\n",
       "            <td>Redmond</td>\n",
       "            <td>WA</td>\n",
       "            <td>USA</td>\n",
       "            <td>98052-8300</td>\n",
       "            <td>+1 (425) 882-8080</td>\n",
       "            <td>+1 (425) 882-8081</td>\n",
       "            <td>jacksmith@microsoft.com</td>\n",
       "            <td>5</td>\n",
       "        </tr>\n",
       "        <tr>\n",
       "            <td>19</td>\n",
       "            <td>Tim</td>\n",
       "            <td>Goyer</td>\n",
       "            <td>Apple Inc.</td>\n",
       "            <td>1 Infinite Loop</td>\n",
       "            <td>Cupertino</td>\n",
       "            <td>CA</td>\n",
       "            <td>USA</td>\n",
       "            <td>95014</td>\n",
       "            <td>+1 (408) 996-1010</td>\n",
       "            <td>+1 (408) 996-1011</td>\n",
       "            <td>tgoyer@apple.com</td>\n",
       "            <td>3</td>\n",
       "        </tr>\n",
       "        <tr>\n",
       "            <td>20</td>\n",
       "            <td>Dan</td>\n",
       "            <td>Miller</td>\n",
       "            <td>None</td>\n",
       "            <td>541 Del Medio Avenue</td>\n",
       "            <td>Mountain View</td>\n",
       "            <td>CA</td>\n",
       "            <td>USA</td>\n",
       "            <td>94040-111</td>\n",
       "            <td>+1 (650) 644-3358</td>\n",
       "            <td>None</td>\n",
       "            <td>dmiller@comcast.com</td>\n",
       "            <td>4</td>\n",
       "        </tr>\n",
       "        <tr>\n",
       "            <td>22</td>\n",
       "            <td>Heather</td>\n",
       "            <td>Leacock</td>\n",
       "            <td>None</td>\n",
       "            <td>120 S Orange Ave</td>\n",
       "            <td>Orlando</td>\n",
       "            <td>FL</td>\n",
       "            <td>USA</td>\n",
       "            <td>32801</td>\n",
       "            <td>+1 (407) 999-7788</td>\n",
       "            <td>None</td>\n",
       "            <td>hleacock@gmail.com</td>\n",
       "            <td>4</td>\n",
       "        </tr>\n",
       "    </tbody>\n",
       "</table>"
      ],
      "text/plain": [
       "[(16, 'Frank', 'Harris', 'Google Inc.', '1600 Amphitheatre Parkway', 'Mountain View', 'CA', 'USA', '94043-1351', '+1 (650) 253-0000', '+1 (650) 253-0000', 'fharris@google.com', 4),\n",
       " (17, 'Jack', 'Smith', 'Microsoft Corporation', '1 Microsoft Way', 'Redmond', 'WA', 'USA', '98052-8300', '+1 (425) 882-8080', '+1 (425) 882-8081', 'jacksmith@microsoft.com', 5),\n",
       " (19, 'Tim', 'Goyer', 'Apple Inc.', '1 Infinite Loop', 'Cupertino', 'CA', 'USA', '95014', '+1 (408) 996-1010', '+1 (408) 996-1011', 'tgoyer@apple.com', 3),\n",
       " (20, 'Dan', 'Miller', None, '541 Del Medio Avenue', 'Mountain View', 'CA', 'USA', '94040-111', '+1 (650) 644-3358', None, 'dmiller@comcast.com', 4),\n",
       " (22, 'Heather', 'Leacock', None, '120 S Orange Ave', 'Orlando', 'FL', 'USA', '32801', '+1 (407) 999-7788', None, 'hleacock@gmail.com', 4)]"
      ]
     },
     "execution_count": 12,
     "metadata": {},
     "output_type": "execute_result"
    }
   ],
   "source": [
    "%sql SELECT * FROM customers WHERE State IN ('FL', 'WA', 'CA')"
   ]
  },
  {
   "cell_type": "markdown",
   "id": "900d17ec",
   "metadata": {},
   "source": [
    "## Exercise: filter for numbers in range"
   ]
  },
  {
   "cell_type": "markdown",
   "id": "4fc328df",
   "metadata": {},
   "source": [
    "Find `invoices` whose `Total` is between 14.96 and 18.86. Use `BETWEEN`.  \n",
    "Sort the output with increasing `Total`. Show only these columns: `InvoiceId`, `BillingAddress`, `Total`."
   ]
  },
  {
   "cell_type": "code",
   "execution_count": 14,
   "id": "19bd083b",
   "metadata": {},
   "outputs": [
    {
     "name": "stdout",
     "output_type": "stream",
     "text": [
      " * sqlite:///chinook.db\n",
      "Done.\n"
     ]
    },
    {
     "data": {
      "text/html": [
       "<table>\n",
       "    <thead>\n",
       "        <tr>\n",
       "            <th>InvoiceId</th>\n",
       "            <th>BillingAddress</th>\n",
       "            <th>Total</th>\n",
       "        </tr>\n",
       "    </thead>\n",
       "    <tbody>\n",
       "        <tr>\n",
       "            <td>103</td>\n",
       "            <td>162 E Superior Street</td>\n",
       "            <td>15.86</td>\n",
       "        </tr>\n",
       "        <tr>\n",
       "            <td>208</td>\n",
       "            <td>Ullevålsveien 14</td>\n",
       "            <td>15.86</td>\n",
       "        </tr>\n",
       "        <tr>\n",
       "            <td>306</td>\n",
       "            <td>Klanova 9/506</td>\n",
       "            <td>16.86</td>\n",
       "        </tr>\n",
       "        <tr>\n",
       "            <td>313</td>\n",
       "            <td>68, Rue Jouvence</td>\n",
       "            <td>16.86</td>\n",
       "        </tr>\n",
       "        <tr>\n",
       "            <td>88</td>\n",
       "            <td>Calle Lira, 198</td>\n",
       "            <td>17.91</td>\n",
       "        </tr>\n",
       "        <tr>\n",
       "            <td>89</td>\n",
       "            <td>Rotenturmstraße 4, 1010 Innere Stadt</td>\n",
       "            <td>18.86</td>\n",
       "        </tr>\n",
       "        <tr>\n",
       "            <td>201</td>\n",
       "            <td>319 N. Frances Street</td>\n",
       "            <td>18.86</td>\n",
       "        </tr>\n",
       "    </tbody>\n",
       "</table>"
      ],
      "text/plain": [
       "[(103, '162 E Superior Street', 15.86),\n",
       " (208, 'Ullevålsveien 14', 15.86),\n",
       " (306, 'Klanova 9/506', 16.86),\n",
       " (313, '68, Rue Jouvence', 16.86),\n",
       " (88, 'Calle Lira, 198', 17.91),\n",
       " (89, 'Rotenturmstraße 4, 1010 Innere Stadt', 18.86),\n",
       " (201, '319 N. Frances Street', 18.86)]"
      ]
     },
     "execution_count": 14,
     "metadata": {},
     "output_type": "execute_result"
    }
   ],
   "source": [
    "%sql SELECT InvoiceId, BillingAddress, Total FROM invoices WHERE Total BETWEEN 14.96 AND 18.86 ORDER BY Total ASC"
   ]
  },
  {
   "cell_type": "markdown",
   "id": "876a5f87",
   "metadata": {},
   "source": [
    "## Exercise: filter partially matching words"
   ]
  },
  {
   "cell_type": "markdown",
   "id": "dc34f541",
   "metadata": {},
   "source": [
    "Find the `tracks` whose `Name`s contain a substring: `Br` (two letters), one letter, `wn` (two letters)."
   ]
  },
  {
   "cell_type": "markdown",
   "id": "1dfd899f",
   "metadata": {},
   "source": [
    "## Exercise: filtering missing values"
   ]
  },
  {
   "cell_type": "markdown",
   "id": "0ae6824d",
   "metadata": {},
   "source": [
    "Find the `customers` who do not have phone numbers. In the result show only the name and the (missing) phone number."
   ]
  },
  {
   "cell_type": "markdown",
   "id": "d9e0d8d7",
   "metadata": {},
   "source": [
    "## Exercise: from the database to a Python list"
   ]
  },
  {
   "cell_type": "markdown",
   "id": "245f69c0",
   "metadata": {},
   "source": [
    "Create a Python variable `bs` to be a list containing all `tracks` sizes as provided in the `Bytes` column.  \n",
    "Print the `type` of the `bs` variable. Print the first 10 elements of `bs`."
   ]
  },
  {
   "cell_type": "markdown",
   "id": "aba50815",
   "metadata": {},
   "source": [
    "## Exercise: from the database to a Pandas data frame"
   ]
  },
  {
   "cell_type": "markdown",
   "id": "beded0f4",
   "metadata": {},
   "source": [
    "Create a Python variable `df` to be a Pandas `DataFrame` with two columns corresponding to `Milliseconds` and `Bytes` columns of the `tracks` table. Print `df`.  \n",
    "You will likely need to:\n",
    "- Import `pandas` package.\n",
    "- Use `read_sql` function from `pandas`.\n",
    "- Create a separate connection `engine` with `creeate_engine`."
   ]
  }
 ],
 "metadata": {
  "kernelspec": {
   "display_name": "EfDS",
   "language": "python",
   "name": "python3"
  },
  "language_info": {
   "codemirror_mode": {
    "name": "ipython",
    "version": 3
   },
   "file_extension": ".py",
   "mimetype": "text/x-python",
   "name": "python",
   "nbconvert_exporter": "python",
   "pygments_lexer": "ipython3",
   "version": "3.12.2"
  }
 },
 "nbformat": 4,
 "nbformat_minor": 5
}
