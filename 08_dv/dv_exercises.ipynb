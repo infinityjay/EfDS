{
 "cells": [
  {
   "cell_type": "markdown",
   "metadata": {
    "collapsed": false
   },
   "source": [
    "## Exercises : data visualisation\n",
    "\n",
    "In the previous session's exercises on `pandas` we used the *Natural gas consumption in the Netherlands* dataset [CBS Open data StatLine](https://opendata.cbs.nl/statline/portal.html?_la=en&_catalog=CBS).  We will continue with the same dataset here for visualisation. We repeat the solution for the last exercise to include the `term` and `date` in our dataframe:\n"
   ]
  },
  {
   "cell_type": "code",
   "execution_count": 1,
   "metadata": {
    "collapsed": false
   },
   "outputs": [
    {
     "data": {
      "text/plain": [
       "year                                               int64\n",
       "term                                              object\n",
       "idx                                                int64\n",
       "date                                      datetime64[ns]\n",
       "ID                                                 int64\n",
       "Periods                                           object\n",
       "TotalSupply_1                                      int64\n",
       "IndigenousProduction_2                             int64\n",
       "ProductionFromOtherSources_3                      object\n",
       "ImportsOfGaseousNaturalGasTotal_4                float64\n",
       "ImportsViaNorway_5                               float64\n",
       "ImportsViaGermany_6                              float64\n",
       "ImportsViaBelgium_7                              float64\n",
       "ImportsViaUnitedKingdom_8                        float64\n",
       "ImportsViaDenmark_9                              float64\n",
       "ImportsOfLiquefiedNaturalGasLng_10               float64\n",
       "ExportsOfGaseousNaturalGasTotal_11               float64\n",
       "ExportsToNorway_12                               float64\n",
       "ExportsToGermany_13                              float64\n",
       "ExportsToBelgium_14                              float64\n",
       "ExportsToUnitedKingdom_15                        float64\n",
       "ExportsToDenmark_16                              float64\n",
       "ExportsOfLiquefiedNaturalGasLng_17               float64\n",
       "Bunkers_18                                        object\n",
       "StockChange_19                                   float64\n",
       "TotalConsumption_20                               object\n",
       "TotalViaTheMainGrid_21                            object\n",
       "ElectricityPowerPlants_22                         object\n",
       "OtherConsumers_23                                 object\n",
       "ViaRegionalGrids_24                               object\n",
       "ConsumptionByProductionAndTransport_25            object\n",
       "ClosingStock_26                                   object\n",
       "ClosingStockGaseousGas_27                         object\n",
       "ClosingStockLiquefiedNaturalGas_28                object\n",
       "Flaring_29                                        object\n",
       "StorageCapacityTotal_30                          float64\n",
       "StorageCapacityGaseousGas_31                     float64\n",
       "StorageCapacityLiquefiedNaturalGas_32            float64\n",
       "dtype: object"
      ]
     },
     "execution_count": 1,
     "metadata": {},
     "output_type": "execute_result"
    }
   ],
   "source": [
    "import pandas as pd\n",
    "import seaborn as sb\n",
    "import matplotlib.pyplot as plt\n",
    "\n",
    "cbs = pd.read_csv(\"../07_pd/data/00372eng_UntypedDataSet_17032023_161051.csv\",sep=\";\")\n",
    "\n",
    "def to_ts(s):\n",
    "    \"\"\"\n",
    "    Apply the following timestamp format for each term {JJ,KW,MM}:\n",
    "\n",
    "    JJ : yyyyJJ00 => 31-12-yyyy\n",
    "    KW : yyyyKWdd => 01: 1-1-yyyy to 31-3-yyyy\n",
    "                     02: 1-4-yyyy to 30-6-yyyy\n",
    "                     03: 1-7-yyyy to 30-9-yyyy\n",
    "                     04: 1-10-yyyy to 31-12-yyyy\n",
    "    MM : yyyyMMdd => 1-xx-yyyy\n",
    "\n",
    "    :param s: {year,term,idx}\n",
    "    :return: Timestamp\n",
    "    \"\"\"\n",
    "\n",
    "    def last_day(ts):\n",
    "        \"\"\"\n",
    "        Given a timestamp find the last day of the month. The number of days in the month can be\n",
    "        calculated by subtracting next month from this month on the same day and the same year.\n",
    "\n",
    "        :param ts:\n",
    "        :return: Number of days in the month (int).\n",
    "        \"\"\"\n",
    "        return (ts.replace(year=ts.year + (ts.month == 12), month=(ts.month % 12) + 1) - ts).days\n",
    "\n",
    "    # _main_\n",
    "    year_, term, idx = s\n",
    "    match term:\n",
    "        case 'JJ':\n",
    "            day_, month_ = 31, 12\n",
    "            return pd.Timestamp(year=year_, month=month_, day=day_)\n",
    "        case 'KW':\n",
    "            day_, month_ = [(31,3),(30,6),(30,9),(31,12)][idx-1]\n",
    "            return pd.Timestamp(year=year_, month=month_, day=day_)\n",
    "        case 'MM':\n",
    "            day_, month_ = last_day(pd.Timestamp(year=year_, month=idx, day=1)), idx\n",
    "            return pd.Timestamp(year=year_, month=month_, day=day_)\n",
    "\n",
    "# _main_\n",
    "\n",
    "df0 = cbs[['Periods','TotalSupply_1']].copy()\n",
    "df = df0.Periods.str.split(r'(JJ|MM|KW)', regex=True, expand=True)  # expand=True forces the result into a DataFrame\n",
    "df = pd.DataFrame({'year': df[0].astype(int),                       # Create DataFrame {year,term,idx}\n",
    "                   'term': df[1],\n",
    "                   'idx': df[2].astype(int)})\n",
    "\n",
    "df['date'] = [to_ts(s) for i,s in df.iterrows()] # create the date variable\n",
    "ngc = pd.concat([df,cbs],axis=1)\n",
    "ngc.dtypes"
   ]
  },
  {
   "cell_type": "markdown",
   "metadata": {
    "collapsed": false
   },
   "source": [
    "# Reshape\n",
    "\n",
    "1) Reshape `ngc` into a long format with all import/export variables as `ie` category and their values as `value` variable. Include only `date` variable from the remainders.\n"
   ]
  },
  {
   "cell_type": "code",
   "execution_count": null,
   "metadata": {
    "collapsed": false
   },
   "outputs": [],
   "source": [
    "# ..."
   ]
  },
  {
   "cell_type": "markdown",
   "metadata": {
    "collapsed": false
   },
   "source": [
    "## Line plots\n",
    "\n",
    "1. Plot lines:\n",
    "\n",
    "- a) Plot yearly `TotalSupply_1` against `date`.\n",
    "- b) Draw a horizontal line to mark `TotalSupply_1` at the point where `TotalSupply_1` is just below the latest observation.\n",
    "- c) On which year does the horizontal line hits the graph."
   ]
  },
  {
   "cell_type": "code",
   "execution_count": null,
   "metadata": {
    "collapsed": false
   },
   "outputs": [],
   "source": [
    "# ..."
   ]
  },
  {
   "cell_type": "markdown",
   "metadata": {
    "collapsed": false
   },
   "source": [
    "2. The import/export variables are those with names starting with `Import` and `Export`. Plot `TotalSupply_1` against `date` for all import/export variables (Hint: reshape data). Make sure the legend is correctly placed. Set X and Y axis labels to `Year` and `Natural gas (MCM)` respectively and set legend's label to `Import/Export`.\n"
   ]
  },
  {
   "cell_type": "code",
   "execution_count": null,
   "metadata": {
    "collapsed": false
   },
   "outputs": [],
   "source": [
    "# ..."
   ]
  },
  {
   "cell_type": "markdown",
   "metadata": {
    "collapsed": false
   },
   "source": [
    "\n",
    "3. Plot (point and lines) `TotalSupply_1` against `month` of all time. Note that you will need to summarise (use groupby/sum) on months of the entire dataset. Set X and Y axis labels to `Month` and `Natural gas (MCM)` respectively. Set `Month` axis ticks to represent month abbreviations. Hint: use calendar module to get month abbreviations. Hint: use the `term` variable to filter only `MM` observations."
   ]
  },
  {
   "cell_type": "code",
   "execution_count": null,
   "metadata": {
    "collapsed": false
   },
   "outputs": [],
   "source": [
    "# ..."
   ]
  },
  {
   "cell_type": "markdown",
   "metadata": {
    "collapsed": false
   },
   "source": [
    "4. Plot boxplots of `TotalSupply_1` against `month` of all time. Set X and Y axis labels to `Month` and `Natural gas (MCM)` respectively. Set `Month` axis ticks to represent month abbreviations."
   ]
  },
  {
   "cell_type": "code",
   "execution_count": null,
   "metadata": {
    "collapsed": false
   },
   "outputs": [],
   "source": [
    "# ..."
   ]
  },
  {
   "cell_type": "markdown",
   "metadata": {
    "collapsed": false
   },
   "source": [
    "5) Boxplots of import/export variables against `TotalSupply_1`. Set X and Y axis labels to `Natural gas (MCM)` and `Import/Export` respectively."
   ]
  },
  {
   "cell_type": "code",
   "execution_count": null,
   "metadata": {
    "collapsed": false
   },
   "outputs": [],
   "source": [
    "# ..."
   ]
  }
 ],
 "metadata": {
  "kernelspec": {
   "display_name": "Python 3",
   "language": "python",
   "name": "python3"
  },
  "language_info": {
   "codemirror_mode": {
    "name": "ipython",
    "version": 3
   },
   "file_extension": ".py",
   "mimetype": "text/x-python",
   "name": "python",
   "nbconvert_exporter": "python",
   "pygments_lexer": "ipython3",
   "version": "3.12.2"
  }
 },
 "nbformat": 4,
 "nbformat_minor": 0
}
