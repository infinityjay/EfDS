{
 "cells": [
  {
   "attachments": {},
   "cell_type": "markdown",
   "metadata": {},
   "source": [
    "# Python sets and dictionaries"
   ]
  },
  {
   "cell_type": "markdown",
   "metadata": {},
   "source": [
    "## Lists/tuples (key points of the previous lesson)"
   ]
  },
  {
   "cell_type": "markdown",
   "metadata": {},
   "source": [
    "Square brackets `[ ... ]` are used to create a new list.  \n",
    "Parentheses `( ... )` are used to create a new tuple.  \n",
    "A list/tuple has any number of elements.  \n",
    "Elements in a list/tuple may be repeated (duplicated).  \n",
    "Each element has its position.  \n",
    "First element is at index zero."
   ]
  },
  {
   "cell_type": "code",
   "execution_count": null,
   "metadata": {},
   "outputs": [],
   "source": [
    "grades = [ 7, 6, 7, 8, 6, 6.5, 8 ]\n",
    "print( \"Elements:\", grades )          # note: spaces are added\n",
    "print( \"Length:\", len( grades ) )\n",
    "print( \"4th element:\", grades[3] )"
   ]
  },
  {
   "cell_type": "markdown",
   "metadata": {},
   "source": [
    "Content of a list can be modified. Lists are not immutable.\n",
    "Content of a tuple is fixed. Tuples are immutable."
   ]
  },
  {
   "cell_type": "code",
   "execution_count": null,
   "metadata": {},
   "outputs": [],
   "source": [
    "toBuy = [ \"yeast\", \"flour\", \"oil\", \"salt\" ]\n",
    "print( \"   Start:\", toBuy )\n",
    "toBuy[2] = \"olive oil\"\n",
    "print( \"Modified:\", toBuy )\n",
    "grades.append( \"sugar\" )\n",
    "print( \"Appended:\", toBuy )\n"
   ]
  },
  {
   "cell_type": "markdown",
   "metadata": {},
   "source": [
    "Comprehensions provide a very compact notation to:\n",
    "\n",
    "- Perform an operation of each element of a list/tuple.\n",
    "- Use a condition to filter elements of a list/tuple."
   ]
  },
  {
   "cell_type": "code",
   "execution_count": null,
   "metadata": {},
   "outputs": [],
   "source": [
    "digit2name = ( 'zero', 'one', 'two', 'three', 'four', 'five', 'six', 'seven', 'eight', 'nine' )\n",
    "print( \"     digit2name:\", digit2name )\n",
    "\n",
    "digits = [ 5, 2, 6, 2, 0, 9, 2, 1, 9 ]                     # some random numbers\n",
    "print( \"         digits:\", digits )\n",
    "\n",
    "digitsNames = [ digit2name[d] for d in digits ]\n",
    "print( \"    digitsNames:\", digitsNames )\n",
    "\n",
    "smallDigits = [ d for d in digits if d <= 3 ]\n",
    "print( \"    smallDigits:\", smallDigits )\n",
    "\n",
    "digitsWithNames = [ (d, digit2name[d] ) for d in digits ]  # tuples are produced here\n",
    "print( \"digitsWithNames:\", digitsWithNames )"
   ]
  },
  {
   "cell_type": "markdown",
   "metadata": {},
   "source": [
    "## Sets"
   ]
  },
  {
   "cell_type": "markdown",
   "metadata": {},
   "source": [
    "`set` is a built-in data type with the following properties:\n",
    "- it is a container which can keep any number (0, 1, 2, ...) of other elements\n",
    "- an element is either `in` the set or `not in` the set - there is no concept of duplicated elements\n",
    "- elements can be added to a `set` or removed from it \n",
    "- an element added to a set cannot ever change, therefore only elements of *immutable* types are allowed\n",
    "- `frozenset` is an *immutable* variant of a set - once created it cannot be changed but therefore a `frozenset` can be used as an element of a set\n",
    "- it is possible to iterate over all elements of a set, but no assumptions can be made about iteration order"
   ]
  },
  {
   "attachments": {},
   "cell_type": "markdown",
   "metadata": {},
   "source": [
    "### A new set"
   ]
  },
  {
   "attachments": {},
   "cell_type": "markdown",
   "metadata": {},
   "source": [
    "Let's consider a *tiramisu* preparation example (note two ways to create a set: `{...}` and `set(...)`):"
   ]
  },
  {
   "cell_type": "code",
   "execution_count": null,
   "metadata": {},
   "outputs": [],
   "source": [
    "# See https://www.recipesfromitaly.com/tiramisu-original-italian-recipe/\n",
    "# A *set* with ingredients needed for tiramisu:\n",
    "tiramisuIngredients = { \"ladyfingers\", \"mascarpone\", \"eggs\", \"sugar\", \"espresso\", \"rum\", \"cocoa\" }\n",
    "\n",
    "# An example *set* of ingredients which might be available\n",
    "# (note: here first a list is created and then it is converted to a set)\n",
    "inHouseIngredients = set( [ \"eggs\", \"espresso\", \"cocoa\", \"butter\", \"strawberries\" ] )\n",
    "inHouseIngredients"
   ]
  },
  {
   "attachments": {},
   "cell_type": "markdown",
   "metadata": {},
   "source": [
    "Use `len(...)` to find the number of elements in a set:"
   ]
  },
  {
   "cell_type": "code",
   "execution_count": null,
   "metadata": {},
   "outputs": [],
   "source": [
    "len( tiramisuIngredients )"
   ]
  },
  {
   "attachments": {},
   "cell_type": "markdown",
   "metadata": {},
   "source": [
    "The type of an object can be checked (as usual) with `type(...)`:"
   ]
  },
  {
   "cell_type": "code",
   "execution_count": null,
   "metadata": {},
   "outputs": [],
   "source": [
    "type( tiramisuIngredients )"
   ]
  },
  {
   "attachments": {},
   "cell_type": "markdown",
   "metadata": {},
   "source": [
    "But note, that the *empty set* cannot be created with `{}` - it leads to an object of a different type:"
   ]
  },
  {
   "cell_type": "code",
   "execution_count": null,
   "metadata": {},
   "outputs": [],
   "source": [
    "type( {} )"
   ]
  },
  {
   "attachments": {},
   "cell_type": "markdown",
   "metadata": {},
   "source": [
    "To create the *empty set* use `set()` with no arguments:"
   ]
  },
  {
   "cell_type": "code",
   "execution_count": null,
   "metadata": {},
   "outputs": [],
   "source": [
    "type( set() )"
   ]
  },
  {
   "attachments": {},
   "cell_type": "markdown",
   "metadata": {},
   "source": [
    "### Sets algebra"
   ]
  },
  {
   "attachments": {},
   "cell_type": "markdown",
   "metadata": {},
   "source": [
    "Standard algebraic operations on sets are [drawn here](set_operations.png)."
   ]
  },
  {
   "attachments": {},
   "cell_type": "markdown",
   "metadata": {},
   "source": [
    "For the tiramisu example, sets of potential interest can be constructed with the operators:\n"
   ]
  },
  {
   "cell_type": "code",
   "execution_count": null,
   "metadata": {},
   "outputs": [],
   "source": [
    "# Which ingredients are already available in house:\n",
    "tiramisuIngredients & inHouseIngredients"
   ]
  },
  {
   "cell_type": "code",
   "execution_count": null,
   "metadata": {},
   "outputs": [],
   "source": [
    "# What still needs to be bought to prepare tiramisu:\n",
    "tiramisuIngredients - inHouseIngredients"
   ]
  },
  {
   "attachments": {},
   "cell_type": "markdown",
   "metadata": {},
   "source": [
    "### Sets: is element in or not?"
   ]
  },
  {
   "attachments": {},
   "cell_type": "markdown",
   "metadata": {},
   "source": [
    "Whether a single element is present `in` a set or not can be tested as follows:"
   ]
  },
  {
   "cell_type": "code",
   "execution_count": null,
   "metadata": {},
   "outputs": [],
   "source": [
    "\"milk\" in tiramisuIngredients"
   ]
  },
  {
   "attachments": {},
   "cell_type": "markdown",
   "metadata": {},
   "source": [
    "Consider also this example of using `not in` inside a comprehension iterating over a set:"
   ]
  },
  {
   "cell_type": "code",
   "execution_count": null,
   "metadata": {},
   "outputs": [],
   "source": [
    "# A True/False map whether an in-house-ingredient is not needed for tiramisu.\n",
    "[(ing,ing not in tiramisuIngredients) for ing in inHouseIngredients]"
   ]
  },
  {
   "attachments": {},
   "cell_type": "markdown",
   "metadata": {},
   "source": [
    "Note: the `set` methods `issubset(...)` and `issuperset(...)` allow to test whether all elements of one set are also present in the other set. The same functions are provided through `<=`, `=>` operators. The `==` allows to check whether two sets have identical elements."
   ]
  },
  {
   "cell_type": "code",
   "execution_count": null,
   "metadata": {},
   "outputs": [],
   "source": [
    "tiramisuIngredients.issubset( inHouseIngredients )"
   ]
  },
  {
   "attachments": {},
   "cell_type": "markdown",
   "metadata": {},
   "source": [
    "### Sets: adding/removing elements "
   ]
  },
  {
   "attachments": {},
   "cell_type": "markdown",
   "metadata": {},
   "source": [
    "Let's consider a set with some available ingredients:"
   ]
  },
  {
   "cell_type": "code",
   "execution_count": null,
   "metadata": {},
   "outputs": [],
   "source": [
    "inHouseIngredients"
   ]
  },
  {
   "attachments": {},
   "cell_type": "markdown",
   "metadata": {},
   "source": [
    "New elements can be added as follows:"
   ]
  },
  {
   "cell_type": "code",
   "execution_count": null,
   "metadata": {},
   "outputs": [],
   "source": [
    "# For a single element:\n",
    "inHouseIngredients.add( 'bread' )\n",
    "\n",
    "# For an iterable collection of elements (it can also be another set):\n",
    "inHouseIngredients.update( [ 'salami', 'tomatoe' ] )\n",
    "\n",
    "inHouseIngredients"
   ]
  },
  {
   "attachments": {},
   "cell_type": "markdown",
   "metadata": {},
   "source": [
    "And here are some examples how to remove elements:"
   ]
  },
  {
   "cell_type": "code",
   "execution_count": null,
   "metadata": {},
   "outputs": [],
   "source": [
    "# For an element currently in the set:\n",
    "inHouseIngredients.remove( \"bread\" )\n",
    "\n",
    "# Note: KeyError exception would be raised because \"BREAD\" is not in the set:\n",
    "# inHouseIngredients.remove( \"BREAD\" ) \n",
    "\n",
    "# For a value which might be in the set (but no error when the value is not there):\n",
    "inHouseIngredients.discard( \"BREAD\" )"
   ]
  },
  {
   "attachments": {},
   "cell_type": "markdown",
   "metadata": {},
   "source": [
    "### Sets: a loop over all elements"
   ]
  },
  {
   "attachments": {},
   "cell_type": "markdown",
   "metadata": {},
   "source": [
    "The following code allows to perform some operations (here: `print(...)`) *for each* element present in the set.  \n",
    "The order in which the elements are iterated over is not defined."
   ]
  },
  {
   "cell_type": "code",
   "execution_count": null,
   "metadata": {},
   "outputs": [],
   "source": [
    "for ing in tiramisuIngredients:\n",
    "    print( \"Needed for tiramisu:\", ing )"
   ]
  },
  {
   "attachments": {},
   "cell_type": "markdown",
   "metadata": {},
   "source": [
    "## Dictionaries"
   ]
  },
  {
   "attachments": {},
   "cell_type": "markdown",
   "metadata": {},
   "source": [
    "`dict` is a built-in data type with the following properties:\n",
    "- it is a container which can keep any number (0, 1, 2, ...) of (*key*, *value*) `items`\n",
    "- the primary goal: using a key it is possible to quickly `get` its corresponding value\n",
    "- there are no duplicates among the `keys`; it is possible whether a key is `in` or `not in` a dict object\n",
    "- the keys must be of *immutable* type\n",
    "- a value corresponding to a key can be modified\n",
    "- new items can be added\n",
    "- existing items can be removed\n",
    "- `for` loops can iterate over all items of a dictionary, or over the `keys`, or over `values`"
   ]
  },
  {
   "attachments": {},
   "cell_type": "markdown",
   "metadata": {},
   "source": [
    "### A new dictionary"
   ]
  },
  {
   "attachments": {},
   "cell_type": "markdown",
   "metadata": {},
   "source": [
    "Use the following notation to create a dictionary from element pairs (note the curly braces: `{`...`}`):"
   ]
  },
  {
   "cell_type": "code",
   "execution_count": null,
   "metadata": {},
   "outputs": [],
   "source": [
    "day2KCal = { \"Mon\": 2330, \"Tue\": 1990, \"Wed\": 2150 }\n",
    "day2KCal"
   ]
  },
  {
   "cell_type": "markdown",
   "metadata": {},
   "source": [
    "The type of the created object is:"
   ]
  },
  {
   "cell_type": "code",
   "execution_count": null,
   "metadata": {},
   "outputs": [],
   "source": [
    "type( day2KCal )"
   ]
  },
  {
   "attachments": {},
   "cell_type": "markdown",
   "metadata": {},
   "source": [
    "Note: repeating the same key (here: `Mon`) overwrites the previously associated value:"
   ]
  },
  {
   "cell_type": "code",
   "execution_count": null,
   "metadata": {},
   "outputs": [],
   "source": [
    "{  \"Mon\": 2330, \"Tue\": 1990, \"Wed\": 2150, \"Mon\": 1000 }"
   ]
  },
  {
   "attachments": {},
   "cell_type": "markdown",
   "metadata": {},
   "source": [
    "The following code allows to build a dictionary from two iterable objects:"
   ]
  },
  {
   "cell_type": "code",
   "execution_count": 85,
   "metadata": {},
   "outputs": [
    {
     "data": {
      "text/plain": [
       "{'Mon': 2330,\n",
       " 'Tue': 1990,\n",
       " 'Wed': 2150,\n",
       " 'Thu': 2290,\n",
       " 'Fri': 1920,\n",
       " 'Sat': 2370,\n",
       " 'Sun': 2050}"
      ]
     },
     "execution_count": 85,
     "metadata": {},
     "output_type": "execute_result"
    }
   ],
   "source": [
    "days = ( \"Mon\", \"Tue\", \"Wed\", \"Thu\", \"Fri\", \"Sat\", \"Sun\" )      # a tuple\n",
    "dayKCals = [ 2330, 1990, 2150, 2290, 1920, 2370, 2050 ]         # a list\n",
    "zip( days, dayKCals )           # a generator, iterable over tuples (day, dayKCal)\n",
    "list( zip( days, dayKCals ) )   # a list of tuples generated by the generator\n",
    "\n",
    "day2KCal = dict( zip( days, dayKCals ) )\n",
    "day2KCal"
   ]
  },
  {
   "attachments": {},
   "cell_type": "markdown",
   "metadata": {},
   "source": [
    "This is the standard way to find the number of items (here: key-value pairs) in a collection:"
   ]
  },
  {
   "cell_type": "code",
   "execution_count": null,
   "metadata": {},
   "outputs": [],
   "source": [
    "len( day2KCal )"
   ]
  },
  {
   "attachments": {},
   "cell_type": "markdown",
   "metadata": {},
   "source": [
    "Note: this is how a new empty dictionary is created:"
   ]
  },
  {
   "cell_type": "code",
   "execution_count": null,
   "metadata": {},
   "outputs": [],
   "source": [
    "{}"
   ]
  },
  {
   "attachments": {},
   "cell_type": "markdown",
   "metadata": {},
   "source": [
    "### Dict: getting, adding or modifying elements"
   ]
  },
  {
   "attachments": {},
   "cell_type": "markdown",
   "metadata": {},
   "source": [
    "Let's start with a dictionary:"
   ]
  },
  {
   "cell_type": "code",
   "execution_count": null,
   "metadata": {},
   "outputs": [],
   "source": [
    "day2KCal = { \"Mon\": 2330, \"Tue\": 1990, \"Wed\": 2150 }\n",
    "day2KCal"
   ]
  },
  {
   "attachments": {},
   "cell_type": "markdown",
   "metadata": {},
   "source": [
    "To add a new value or change a value for a single key, use the following:"
   ]
  },
  {
   "cell_type": "code",
   "execution_count": null,
   "metadata": {},
   "outputs": [],
   "source": [
    "day2KCal[ \"Thu\" ] = 2290\n",
    "day2KCal"
   ]
  },
  {
   "attachments": {},
   "cell_type": "markdown",
   "metadata": {},
   "source": [
    "Multiple items can be added/updated by calling `update(...)` for an iterable over (key, value) items: "
   ]
  },
  {
   "cell_type": "code",
   "execution_count": null,
   "metadata": {},
   "outputs": [],
   "source": [
    "day2KCal.update( [ ( \"Fri\", 1920 ), ( \"Sat\", 2370 ) ] )\n",
    "day2KCal"
   ]
  },
  {
   "attachments": {},
   "cell_type": "markdown",
   "metadata": {},
   "source": [
    "The square bracket `[`...`]` operator can be used to get an element for a provided key.  \n",
    "The key must be present in the dictionary or an error will be thrown:"
   ]
  },
  {
   "cell_type": "code",
   "execution_count": null,
   "metadata": {},
   "outputs": [],
   "source": [
    "# day2KCal[ \"Monday\" ]         # \"Monday\" is an invalid key and raises KeyError exception\n",
    "day2KCal[ \"Mon\" ]              # returns the value for the key \"Mon\""
   ]
  },
  {
   "attachments": {},
   "cell_type": "markdown",
   "metadata": {},
   "source": [
    "The `get( key, defaultValue )` function may be used to avoid exceptions when the key is missing in the dictionary. Then the `defaultValue` is returned:"
   ]
  },
  {
   "cell_type": "code",
   "execution_count": null,
   "metadata": {},
   "outputs": [],
   "source": [
    "day2KCal.get( \"Monday\", 100 )  # does not raise any exception\n",
    "                               # but it returns the second argument (here 100)"
   ]
  },
  {
   "attachments": {},
   "cell_type": "markdown",
   "metadata": {},
   "source": [
    "The following two examples show how to check whether a key is `in` or is `not in` a dictionary:"
   ]
  },
  {
   "cell_type": "code",
   "execution_count": null,
   "metadata": {},
   "outputs": [],
   "source": [
    "\"Tuesday\" in day2KCal"
   ]
  },
  {
   "cell_type": "code",
   "execution_count": null,
   "metadata": {},
   "outputs": [],
   "source": [
    "aKey = \"Tuesday\"\n",
    "aKey not in day2KCal"
   ]
  },
  {
   "attachments": {},
   "cell_type": "markdown",
   "metadata": {},
   "source": [
    "### Dict: removing an element"
   ]
  },
  {
   "attachments": {},
   "cell_type": "markdown",
   "metadata": {},
   "source": [
    "A few possibilities exists to remove an element:"
   ]
  },
  {
   "cell_type": "code",
   "execution_count": null,
   "metadata": {},
   "outputs": [],
   "source": [
    "day2KCal = { \"Mon\": 2330, \"Tue\": 1990, \"Wed\": 2150 }\n",
    "day2KCal.pop( \"Tue\" )           # removes Tue but returns the value which Tue had\n",
    "                                # raises exception if the key is not found\n",
    "\n",
    "day2KCal.pop( \"Monday\", None )  # removes only when the key is present; returns the second argument\n",
    "                                # does not raise the key not found exception"
   ]
  },
  {
   "attachments": {},
   "cell_type": "markdown",
   "metadata": {},
   "source": [
    "Or:"
   ]
  },
  {
   "cell_type": "code",
   "execution_count": null,
   "metadata": {},
   "outputs": [],
   "source": [
    "del day2KCal[ \"Mon\" ]           # also removes an existing element\n",
    "                                # raises exception if the key is not found"
   ]
  },
  {
   "attachments": {},
   "cell_type": "markdown",
   "metadata": {},
   "source": [
    "### Dict: all keys, all values or their pairs"
   ]
  },
  {
   "attachments": {},
   "cell_type": "markdown",
   "metadata": {},
   "source": [
    "With `values()` it is possible to iterate over all values in a dictionary:"
   ]
  },
  {
   "cell_type": "code",
   "execution_count": null,
   "metadata": {},
   "outputs": [],
   "source": [
    "day2KCal = { \"Mon\": 2330, \"Tue\": 1990, \"Wed\": 2150 }\n",
    "day2KCal.values()                  # this is an iterable collection\n",
    "                                   # it is a view: it will change if the dict changes"
   ]
  },
  {
   "attachments": {},
   "cell_type": "markdown",
   "metadata": {},
   "source": [
    "An example of `values()` used in a list comprehension:"
   ]
  },
  {
   "cell_type": "code",
   "execution_count": null,
   "metadata": {},
   "outputs": [],
   "source": [
    "kJoules = [kCal * 4.184 for kCal in day2KCal.values()]\n",
    "kJoules"
   ]
  },
  {
   "attachments": {},
   "cell_type": "markdown",
   "metadata": {},
   "source": [
    "`items()` provide an iterator over dictionary, generating two element tuples (key, value).  \n",
    "Here, this iterator is used to create another dictionary:"
   ]
  },
  {
   "cell_type": "code",
   "execution_count": null,
   "metadata": {},
   "outputs": [],
   "source": [
    "day2KCal.items()                  # this is a generator of (day, kCal) tuples\n",
    "day2KJoule = { day: kCal * 4.184 for day, kCal in day2KCal.items()}\n",
    "day2KJoule"
   ]
  },
  {
   "attachments": {},
   "cell_type": "markdown",
   "metadata": {},
   "source": [
    "It is also possible to iterate only over `keys()`.  \n",
    "The following example creates a tuple of all dictionary keys:"
   ]
  },
  {
   "cell_type": "code",
   "execution_count": null,
   "metadata": {},
   "outputs": [],
   "source": [
    "day2KCal.keys()                   # this is a generator\n",
    "days = tuple( day2KCal.keys() )   # iterates over the generator and produces a tuple\n",
    "days"
   ]
  },
  {
   "attachments": {},
   "cell_type": "markdown",
   "metadata": {},
   "source": [
    "### Dict: a loop over elements"
   ]
  },
  {
   "attachments": {},
   "cell_type": "markdown",
   "metadata": {},
   "source": [
    "`items()`, `values()`, `keys()` can also be used in loops. For example:"
   ]
  },
  {
   "cell_type": "code",
   "execution_count": null,
   "metadata": {},
   "outputs": [],
   "source": [
    "day2KCal = { \"Mon\": 2330, \"Tue\": 1990, \"Wed\": 2150 }\n",
    "for day, kCal in day2KCal.items():\n",
    "    print( \"On\", day, \"consumed food was\", kCal, \"kCal or\", kCal * 4.184, \"kJ.\" )"
   ]
  },
  {
   "attachments": {},
   "cell_type": "markdown",
   "metadata": {},
   "source": [
    "## Formatting strings"
   ]
  },
  {
   "attachments": {},
   "cell_type": "markdown",
   "metadata": {},
   "source": [
    "Compare the `print` command from the previous example with the print below which uses *f-strings (formatted string literals)*."
   ]
  },
  {
   "cell_type": "code",
   "execution_count": null,
   "metadata": {},
   "outputs": [],
   "source": [
    "day2KCal = { \"Mon\": 2330, \"Tue\": 1990, \"Wed\": 2150 }\n",
    "for day, kCal in day2KCal.items():\n",
    "    print( f\"On {day} consumed food was {kCal} kCal or {kCal * 4.184} kJ.\" )"
   ]
  },
  {
   "attachments": {},
   "cell_type": "markdown",
   "metadata": {},
   "source": [
    "In *f-strings* `f\"`...`\"` variables/expressions can be put between `{`...`}` to have their values inserted into the surrounding text."
   ]
  },
  {
   "cell_type": "code",
   "execution_count": null,
   "metadata": {},
   "outputs": [],
   "source": [
    "x = \"Statistics\"\n",
    "y = \"Data Science\"\n",
    "f\"{x} and {y}\""
   ]
  },
  {
   "cell_type": "code",
   "execution_count": null,
   "metadata": {},
   "outputs": [],
   "source": [
    "f\"{x}\" \" and \" f'{y}'            # Note, there are several strings here\n",
    "                                 # and they get concatenated"
   ]
  },
  {
   "cell_type": "code",
   "execution_count": null,
   "metadata": {},
   "outputs": [],
   "source": [
    "( f\"{x}\"\n",
    "\" and \"\n",
    "f\"{y}\" )                         # The above example in a multiline version, see (...)"
   ]
  },
  {
   "cell_type": "markdown",
   "metadata": {},
   "source": [
    "The *f-strings* notation allows to specify rounding and alignment of the inserted text.  \n",
    "Consider the following examples:"
   ]
  },
  {
   "cell_type": "code",
   "execution_count": null,
   "metadata": {},
   "outputs": [],
   "source": [
    "from math import pi\n",
    "{ \n",
    "    \"               full precision\":  f\"{pi}\",\n",
    "    \"                  four digits\":  f\"{pi:.4f}\",\n",
    "    \"four digits and forced + sign\":  f\"{pi:+.4f}\",\n",
    "    \"                right aligned\":  f\"{pi:12.4f}\",\n",
    "    \"               center aligned\":  f\"{pi:^12.4f}\",\n",
    "    \"                 left aligned\":  f\"{pi:<12.4f}\",\n",
    "    \"            exponent notation\":  f\"{pi * 1000:.4e}\",\n",
    "    \"        with comma separators\":  f\"{pi * 1e6:,.2f}\",     # Note: the comma here is ok\n",
    "}"
   ]
  },
  {
   "cell_type": "markdown",
   "metadata": {},
   "source": [
    "## Self-study tasks"
   ]
  },
  {
   "attachments": {},
   "cell_type": "markdown",
   "metadata": {},
   "source": [
    "### Generating random integers"
   ]
  },
  {
   "attachments": {},
   "cell_type": "markdown",
   "metadata": {},
   "source": [
    "Use `from random import randint` to make the function `randint` available.  \n",
    "Try `randint` to generate a random number in the range `[0,...,9]` (both ends inclusive).  \n",
    "Write a list comprehension to generate a list with 20 random numbers in the range.  \n",
    "Store the generated list in the variable `vs`.  \n",
    "\n",
    "*Note:* The `range(...)` generator might be useful in the comprehension.\n",
    "\n",
    "*Question:* What would be `set(vs)`?"
   ]
  },
  {
   "cell_type": "code",
   "execution_count": 73,
   "metadata": {},
   "outputs": [
    {
     "data": {
      "text/plain": [
       "[9, 6, 2, 5, 3, 1, 9, 7, 4, 3, 3, 7, 4, 4, 8, 2, 4, 7, 3]"
      ]
     },
     "execution_count": 73,
     "metadata": {},
     "output_type": "execute_result"
    }
   ],
   "source": [
    "# SOLUTION\n",
    "from random import randint\n",
    "vs = []\n",
    "for i in range(0, 19, 1) :\n",
    "    vs.append(randint(1, 9))\n",
    "vs\n"
   ]
  },
  {
   "attachments": {},
   "cell_type": "markdown",
   "metadata": {},
   "source": [
    "### Counting elements"
   ]
  },
  {
   "attachments": {},
   "cell_type": "markdown",
   "metadata": {},
   "source": [
    "A list of many elements is provided in the variable `vs` (identical elements may occur multiple times in the list).  \n",
    "(*Note:* Such a list can be the output from the previous exercise, but it can be a list of for example text strings).\n",
    "\n",
    "Write your own element *counter* which produces a dictionary with keys being the unique elements of the `vs` list and the values representing their counts.  \n",
    "Store the dictionary in `v2cnt`.\n",
    "\n",
    "*Note:* There are many solutions. You may first build a set of unique `vs` elements. Then initialize a dictionary for these elements with `0` count values. Finally, in a `for` loop increase the counts in the dictionary."
   ]
  },
  {
   "cell_type": "code",
   "execution_count": 79,
   "metadata": {},
   "outputs": [
    {
     "data": {
      "text/plain": [
       "{1: 6, 7: 2, 3: 2, 0: 2, 2: 5, 5: 4, 8: 2, 6: 1, 4: 2}"
      ]
     },
     "execution_count": 79,
     "metadata": {},
     "output_type": "execute_result"
    }
   ],
   "source": [
    "# For example, for this list:\n",
    "vs = [ 1, 7, 3, 1, 0, 2, 5, 7, 8, 2, 6, 2, 4, 1, 5, 5, 0, 2, 5, 4, 1, 3, 1, 8, 2, 1 ]\n",
    "\n",
    "# The solution should be (0 is present twice, 1 is six times, 2 five times...)\n",
    "# vs2cnt = {0: 2, 1: 6, 2: 5, 3: 2, 4: 2, 5: 4, 6: 1, 7: 2, 8: 2}"
   ]
  },
  {
   "cell_type": "code",
   "execution_count": 80,
   "metadata": {},
   "outputs": [
    {
     "data": {
      "text/plain": [
       "{1: 6, 7: 2, 3: 2, 0: 2, 2: 5, 5: 4, 8: 2, 6: 1, 4: 2}"
      ]
     },
     "execution_count": 80,
     "metadata": {},
     "output_type": "execute_result"
    }
   ],
   "source": [
    "# SOLUTION\n",
    "vs = [ 1, 7, 3, 1, 0, 2, 5, 7, 8, 2, 6, 2, 4, 1, 5, 5, 0, 2, 5, 4, 1, 3, 1, 8, 2, 1 ]\n",
    "## Solution 1\n",
    "# import collections\n",
    "# vs2cnt = collections.Counter(vs)\n",
    "# vs2cnt\n",
    "\n",
    "## solution 2\n",
    "vs2cnt = {}\n",
    "for v in vs :\n",
    "    if v not in vs2cnt : vs2cnt[v] = 1\n",
    "    else : vs2cnt[v] = vs2cnt[v] + 1\n",
    "vs2cnt"
   ]
  },
  {
   "attachments": {},
   "cell_type": "markdown",
   "metadata": {},
   "source": [
    "### Removing from a dictionary all items of given values"
   ]
  },
  {
   "attachments": {},
   "cell_type": "markdown",
   "metadata": {},
   "source": [
    "Given is a dictionary `licPlate2color` with colors of cars corresponding to some license plates.  \n",
    "Create a filtered dictionary `lp2c` which does not contain cars of colors listed in `toRemoveColors`."
   ]
  },
  {
   "cell_type": "code",
   "execution_count": null,
   "metadata": {},
   "outputs": [],
   "source": [
    "licPlate2color = {\n",
    "    \"VA-111-V\": \"silver\", \"SB-222-W\": \"red\", \"XC-333-L\": \"red\",\n",
    "    \"AB-111-E\": \"white\", \"ER-222-U\": \"black\", \"BV-333-Z\": \"white\",\n",
    "    \"CC-111-J\": \"silver\", \"UI-222-R\": \"green\", \"GF-333-U\": \"silver\",\n",
    "    \"WT-111-K\": \"white\", \"KJ-222-Q\": \"silver\", \"LK-333-I\": \"black\",\n",
    "}\n",
    "toRemoveColors = [ \"white\", \"silver\", \"black\" ]"
   ]
  },
  {
   "cell_type": "code",
   "execution_count": 82,
   "metadata": {},
   "outputs": [
    {
     "data": {
      "text/plain": [
       "{'SB-222-W': 'red', 'XC-333-L': 'red', 'UI-222-R': 'green'}"
      ]
     },
     "execution_count": 82,
     "metadata": {},
     "output_type": "execute_result"
    }
   ],
   "source": [
    "# SOLUTION\n",
    "licPlate2color = {\n",
    "    \"VA-111-V\": \"silver\", \"SB-222-W\": \"red\", \"XC-333-L\": \"red\",\n",
    "    \"AB-111-E\": \"white\", \"ER-222-U\": \"black\", \"BV-333-Z\": \"white\",\n",
    "    \"CC-111-J\": \"silver\", \"UI-222-R\": \"green\", \"GF-333-U\": \"silver\",\n",
    "    \"WT-111-K\": \"white\", \"KJ-222-Q\": \"silver\", \"LK-333-I\": \"black\",\n",
    "}\n",
    "toRemoveColors = [ \"white\", \"silver\", \"black\" ]\n",
    "\n",
    "lp2c = {}\n",
    "for key, value in licPlate2color.items():\n",
    "    if value not in toRemoveColors: lp2c[key] = value\n",
    "lp2c\n"
   ]
  },
  {
   "attachments": {},
   "cell_type": "markdown",
   "metadata": {},
   "source": [
    "### Build a dictionary with values being lists"
   ]
  },
  {
   "attachments": {},
   "cell_type": "markdown",
   "metadata": {},
   "source": [
    "Some people are described at the same positions in two lists: `names` and `countries` (see below).  \n",
    "Build a dictionary `country2names` with values being lists of `names` of people from a country given by the key.  \n",
    "For example: `country2names[\"nl\"]` should be a list `['Jeroen', 'Sanne']`.\n",
    "\n",
    "*Note:* A possible solution may use `defaultdict` imported from `collections` package."
   ]
  },
  {
   "cell_type": "code",
   "execution_count": null,
   "metadata": {},
   "outputs": [],
   "source": [
    "names =     [\"Grzegorz\", \"Małgorzata\", \"Paweł\", \"Jeroen\", \"Sanne\", \"Ana\", \"Sofia\", \"Javier\", \"Sofia\"]\n",
    "countries = [\"pl\",       \"pl\",         \"pl\",    \"nl\",     \"nl\",    \"es\",  \"es\",    \"es\",     \"es\"]"
   ]
  },
  {
   "cell_type": "code",
   "execution_count": 89,
   "metadata": {},
   "outputs": [
    {
     "data": {
      "text/plain": [
       "{'pl': ['Grzegorz', 'Małgorzata', 'Paweł'],\n",
       " 'nl': ['Jeroen', 'Sanne'],\n",
       " 'es': ['Ana', 'Sofia', 'Javier', 'Sofia']}"
      ]
     },
     "execution_count": 89,
     "metadata": {},
     "output_type": "execute_result"
    }
   ],
   "source": [
    "# SOLUTION\n",
    "names =     [\"Grzegorz\", \"Małgorzata\", \"Paweł\", \"Jeroen\", \"Sanne\", \"Ana\", \"Sofia\", \"Javier\", \"Sofia\"]\n",
    "countries = [\"pl\",       \"pl\",         \"pl\",    \"nl\",     \"nl\",    \"es\",  \"es\",    \"es\",     \"es\"]\n",
    "\n",
    "country2names = {}\n",
    "for i in range(len(names)) :\n",
    "    if countries[i] not in country2names: country2names[countries[i]] = [names[i]]\n",
    "    else: country2names[countries[i]].append(names[i])\n",
    "country2names"
   ]
  },
  {
   "attachments": {},
   "cell_type": "markdown",
   "metadata": {},
   "source": [
    "### Reverse a list and sample elements"
   ]
  },
  {
   "attachments": {},
   "cell_type": "markdown",
   "metadata": {},
   "source": [
    "A volleyball team has 11 players (each of a different name). The players specialize and have their own roles.\n",
    "The `player2role` dictionary provides the roles of the players.\n",
    "\n",
    "For a volleyball set the team needs to select 6 players of the following roles:\n",
    "- one `setter`,\n",
    "- one `dia`,\n",
    "- two `middle` attackers,\n",
    "- two `outside` attackers.  \n",
    "The numbers of needed players of each role is given by the `role2num` dictionary.\n",
    "\n",
    "From the complete team choose 6 player randomly but so that there is a correct number of players with each role.  \n",
    "The result should be a dictionary (keys are the roles, values are lists of chosen players).\n",
    "\n",
    "*Hint:* `from random import sample` (search for documentation of the function `sample`)\n",
    "\n",
    "*Hint:* Based on the previous exercise build first `role2players` dictionary (reverse `player2role`).\n"
   ]
  },
  {
   "cell_type": "code",
   "execution_count": null,
   "metadata": {},
   "outputs": [],
   "source": [
    "from random import sample\n",
    "\n",
    "role2num = { \"setter\": 1, \"dia\": 1, \"middle\": 2, \"outside\": 2 }\n",
    "\n",
    "player2role = { \n",
    "    \"Chen\": \"setter\", \"Martijn\": \"setter\",\n",
    "    \"Marnick\": \"dia\", \"Simon\": \"dia\",\n",
    "    \"David\": \"middle\", \"Luuk\": \"middle\",\n",
    "    \"Ronald\": \"outside\", \"Alex\": \"outside\", \"Kadir\": \"outside\", \"Koen\": \"outside\"\n",
    "}"
   ]
  },
  {
   "cell_type": "code",
   "execution_count": 102,
   "metadata": {},
   "outputs": [
    {
     "data": {
      "text/plain": [
       "{'setter': ['Chen'],\n",
       " 'dia': ['Marnick'],\n",
       " 'middle': ['David', 'Luuk'],\n",
       " 'outside': ['Ronald', 'Alex']}"
      ]
     },
     "execution_count": 102,
     "metadata": {},
     "output_type": "execute_result"
    }
   ],
   "source": [
    "# SOLUTION\n",
    "from random import sample\n",
    "\n",
    "role2num = { \"setter\": 1, \"dia\": 1, \"middle\": 2, \"outside\": 2 }\n",
    "\n",
    "player2role = { \n",
    "    \"Chen\": \"setter\", \"Martijn\": \"setter\",\n",
    "    \"Marnick\": \"dia\", \"Simon\": \"dia\",\n",
    "    \"David\": \"middle\", \"Luuk\": \"middle\",\n",
    "    \"Ronald\": \"outside\", \"Alex\": \"outside\", \"Kadir\": \"outside\", \"Koen\": \"outside\"\n",
    "}\n",
    "# generate the role2player \n",
    "role2player = {}\n",
    "for key, value in player2role.items():\n",
    "    if value not in role2player.keys(): role2player[value] = [key]\n",
    "    else: role2player[value].append(key)\n",
    "role2player\n",
    "\n",
    "result = {}\n",
    "for key, value in role2num.items():\n",
    "    result[key] = role2player[key][0:value]\n",
    "result\n",
    "\n"
   ]
  },
  {
   "cell_type": "markdown",
   "metadata": {},
   "source": [
    "### NATO phonetic alphabet"
   ]
  },
  {
   "attachments": {},
   "cell_type": "markdown",
   "metadata": {},
   "source": [
    "When spelling a word, the following `codeWords` are used to represent letters (`a` is pronounced `alpha`, `b` is `bravo`, ...).\n",
    "\n",
    "Build a dictionary `chr2codeWord` which will map a letter `chr` to its code word `chr2codeWord[chr]`.  \n",
    "For example, `chr2codeWord['s']` should be equal to `sierra`.  \n",
    "Do not type the content manually - use `split` to get a list of words from `codeWords` and then write a comprehension to build a dictionary mapping the first letter (`codeWord[0]`) to the corresponding `codeWord`.\n",
    "\n",
    "Finally, given `word = \"statistics\"` write a comprehension mapping letters from `word` to a list of code words in the order how they should be spelled (`sierra`, `tango`, `alpha`, `tango`, ...)."
   ]
  },
  {
   "cell_type": "code",
   "execution_count": null,
   "metadata": {},
   "outputs": [],
   "source": [
    "codeWords = \"alpha bravo charlie delta echo foxtrot golf hotel india juliet kilo lima mike november oscar papa quebec romeo sierra tango uniform victor whiskey x-ray yankee zulu\"\n",
    "codeWords"
   ]
  },
  {
   "cell_type": "code",
   "execution_count": 116,
   "metadata": {},
   "outputs": [
    {
     "data": {
      "text/plain": [
       "['sierra',\n",
       " 'tango',\n",
       " 'alpha',\n",
       " 'tango',\n",
       " 'india',\n",
       " 'sierra',\n",
       " 'tango',\n",
       " 'india',\n",
       " 'charlie',\n",
       " 'sierra']"
      ]
     },
     "execution_count": 116,
     "metadata": {},
     "output_type": "execute_result"
    }
   ],
   "source": [
    "# SOLUTION\n",
    "codeWords = \"alpha bravo charlie delta echo foxtrot golf hotel india juliet kilo lima mike november oscar papa quebec romeo sierra tango uniform victor whiskey x-ray yankee zulu\"\n",
    "codeWords\n",
    "chr2codeword = {}\n",
    "for value in codeWords.split(\" \"):\n",
    "    chr2codeword[value[0]] = value\n",
    "chr2codeword\n",
    "\n",
    "word = \"statistics\"\n",
    "results = []\n",
    "for w in word :\n",
    "    results.append(chr2codeword[w])\n",
    "results\n"
   ]
  },
  {
   "cell_type": "markdown",
   "metadata": {},
   "source": [
    "### Read weather data"
   ]
  },
  {
   "attachments": {},
   "cell_type": "markdown",
   "metadata": {},
   "source": [
    "Understand the Open-Meteo web page:  \n",
    "https://open-meteo.com/en/docs#latitude=52.16&longitude=4.49&hourly=temperature_2m.  \n",
    "\n",
    "On that page you may generate a URL link providing access to weather predictions, for example for temperature in Leiden:  \n",
    "https://api.open-meteo.com/v1/forecast?latitude=52.16&longitude=4.49&hourly=temperature_2m\n",
    "\n",
    "The data is provided in the [JSON](https://en.wikipedia.org/wiki/JSON) format which can be easily read in Python using the `json` and `urllib.request` libraries.\n",
    "\n",
    "Use the following code to get the `data`. Find out how to extract the list with temperatures and the list with corresponding time point texts. Finally, build a dictionary object `time2temp` mapping the time point text to the temperature."
   ]
  },
  {
   "cell_type": "code",
   "execution_count": 118,
   "metadata": {},
   "outputs": [
    {
     "name": "stdout",
     "output_type": "stream",
     "text": [
      "{'latitude': 52.16, 'longitude': 4.4999995, 'generationtime_ms': 0.051021575927734375, 'utc_offset_seconds': 0, 'timezone': 'GMT', 'timezone_abbreviation': 'GMT', 'elevation': 7.0, 'hourly_units': {'time': 'iso8601', 'temperature_2m': '°C'}, 'hourly': {'time': ['2024-02-13T00:00', '2024-02-13T01:00', '2024-02-13T02:00', '2024-02-13T03:00', '2024-02-13T04:00', '2024-02-13T05:00', '2024-02-13T06:00', '2024-02-13T07:00', '2024-02-13T08:00', '2024-02-13T09:00', '2024-02-13T10:00', '2024-02-13T11:00', '2024-02-13T12:00', '2024-02-13T13:00', '2024-02-13T14:00', '2024-02-13T15:00', '2024-02-13T16:00', '2024-02-13T17:00', '2024-02-13T18:00', '2024-02-13T19:00', '2024-02-13T20:00', '2024-02-13T21:00', '2024-02-13T22:00', '2024-02-13T23:00', '2024-02-14T00:00', '2024-02-14T01:00', '2024-02-14T02:00', '2024-02-14T03:00', '2024-02-14T04:00', '2024-02-14T05:00', '2024-02-14T06:00', '2024-02-14T07:00', '2024-02-14T08:00', '2024-02-14T09:00', '2024-02-14T10:00', '2024-02-14T11:00', '2024-02-14T12:00', '2024-02-14T13:00', '2024-02-14T14:00', '2024-02-14T15:00', '2024-02-14T16:00', '2024-02-14T17:00', '2024-02-14T18:00', '2024-02-14T19:00', '2024-02-14T20:00', '2024-02-14T21:00', '2024-02-14T22:00', '2024-02-14T23:00', '2024-02-15T00:00', '2024-02-15T01:00', '2024-02-15T02:00', '2024-02-15T03:00', '2024-02-15T04:00', '2024-02-15T05:00', '2024-02-15T06:00', '2024-02-15T07:00', '2024-02-15T08:00', '2024-02-15T09:00', '2024-02-15T10:00', '2024-02-15T11:00', '2024-02-15T12:00', '2024-02-15T13:00', '2024-02-15T14:00', '2024-02-15T15:00', '2024-02-15T16:00', '2024-02-15T17:00', '2024-02-15T18:00', '2024-02-15T19:00', '2024-02-15T20:00', '2024-02-15T21:00', '2024-02-15T22:00', '2024-02-15T23:00', '2024-02-16T00:00', '2024-02-16T01:00', '2024-02-16T02:00', '2024-02-16T03:00', '2024-02-16T04:00', '2024-02-16T05:00', '2024-02-16T06:00', '2024-02-16T07:00', '2024-02-16T08:00', '2024-02-16T09:00', '2024-02-16T10:00', '2024-02-16T11:00', '2024-02-16T12:00', '2024-02-16T13:00', '2024-02-16T14:00', '2024-02-16T15:00', '2024-02-16T16:00', '2024-02-16T17:00', '2024-02-16T18:00', '2024-02-16T19:00', '2024-02-16T20:00', '2024-02-16T21:00', '2024-02-16T22:00', '2024-02-16T23:00', '2024-02-17T00:00', '2024-02-17T01:00', '2024-02-17T02:00', '2024-02-17T03:00', '2024-02-17T04:00', '2024-02-17T05:00', '2024-02-17T06:00', '2024-02-17T07:00', '2024-02-17T08:00', '2024-02-17T09:00', '2024-02-17T10:00', '2024-02-17T11:00', '2024-02-17T12:00', '2024-02-17T13:00', '2024-02-17T14:00', '2024-02-17T15:00', '2024-02-17T16:00', '2024-02-17T17:00', '2024-02-17T18:00', '2024-02-17T19:00', '2024-02-17T20:00', '2024-02-17T21:00', '2024-02-17T22:00', '2024-02-17T23:00', '2024-02-18T00:00', '2024-02-18T01:00', '2024-02-18T02:00', '2024-02-18T03:00', '2024-02-18T04:00', '2024-02-18T05:00', '2024-02-18T06:00', '2024-02-18T07:00', '2024-02-18T08:00', '2024-02-18T09:00', '2024-02-18T10:00', '2024-02-18T11:00', '2024-02-18T12:00', '2024-02-18T13:00', '2024-02-18T14:00', '2024-02-18T15:00', '2024-02-18T16:00', '2024-02-18T17:00', '2024-02-18T18:00', '2024-02-18T19:00', '2024-02-18T20:00', '2024-02-18T21:00', '2024-02-18T22:00', '2024-02-18T23:00', '2024-02-19T00:00', '2024-02-19T01:00', '2024-02-19T02:00', '2024-02-19T03:00', '2024-02-19T04:00', '2024-02-19T05:00', '2024-02-19T06:00', '2024-02-19T07:00', '2024-02-19T08:00', '2024-02-19T09:00', '2024-02-19T10:00', '2024-02-19T11:00', '2024-02-19T12:00', '2024-02-19T13:00', '2024-02-19T14:00', '2024-02-19T15:00', '2024-02-19T16:00', '2024-02-19T17:00', '2024-02-19T18:00', '2024-02-19T19:00', '2024-02-19T20:00', '2024-02-19T21:00', '2024-02-19T22:00', '2024-02-19T23:00'], 'temperature_2m': [4.4, 4.3, 4.5, 4.5, 4.5, 4.4, 4.5, 4.1, 4.0, 5.5, 6.7, 7.9, 9.0, 8.9, 8.8, 8.7, 7.9, 7.4, 6.8, 7.0, 7.5, 7.7, 7.9, 8.1, 8.3, 8.6, 8.8, 9.1, 9.4, 9.8, 10.1, 10.0, 10.4, 10.6, 10.8, 11.2, 11.0, 11.0, 10.9, 10.6, 10.5, 10.6, 10.7, 11.0, 11.0, 10.6, 10.4, 10.5, 10.7, 10.6, 10.7, 10.8, 10.9, 11.1, 11.2, 11.3, 11.3, 11.6, 12.1, 12.9, 13.8, 14.6, 14.8, 15.0, 14.6, 13.9, 13.7, 13.4, 13.0, 12.9, 12.5, 12.0, 11.7, 11.5, 11.2, 11.2, 11.2, 11.2, 10.7, 10.3, 9.8, 9.8, 10.6, 10.6, 10.7, 10.7, 10.7, 10.5, 10.2, 9.7, 9.4, 9.2, 9.1, 9.0, 8.9, 8.8, 8.6, 8.5, 8.4, 8.3, 8.0, 7.8, 7.7, 7.8, 8.1, 8.6, 9.3, 10.2, 10.9, 11.3, 11.5, 11.6, 11.3, 10.8, 10.5, 10.5, 10.6, 10.7, 10.8, 10.8, 10.8, 10.7, 10.6, 10.5, 10.3, 10.1, 9.9, 10.5, 10.4, 10.4, 10.5, 10.6, 10.7, 10.6, 10.3, 10.0, 9.5, 9.0, 8.4, 7.8, 7.3, 6.9, 6.5, 6.3, 6.1, 6.1, 6.0, 6.0, 5.7, 5.3, 5.3, 5.6, 6.2, 7.0, 8.2, 9.7, 10.6, 10.9, 10.7, 10.1, 8.9, 7.3, 6.1, 5.8, 5.8, 6.0, 6.2, 6.6]}}\n"
     ]
    }
   ],
   "source": [
    "import urllib.request, json \n",
    "url = \"https://api.open-meteo.com/v1/forecast?latitude=52.16&longitude=4.49&hourly=temperature_2m\"\n",
    "data = json.load( urllib.request.urlopen(url) )\n",
    "print(data)          # use this to print the nested list with data"
   ]
  },
  {
   "cell_type": "code",
   "execution_count": 122,
   "metadata": {},
   "outputs": [
    {
     "data": {
      "text/plain": [
       "{'2024-02-13T00:00': 4.4,\n",
       " '2024-02-13T01:00': 4.3,\n",
       " '2024-02-13T02:00': 4.5,\n",
       " '2024-02-13T03:00': 4.5,\n",
       " '2024-02-13T04:00': 4.5,\n",
       " '2024-02-13T05:00': 4.4,\n",
       " '2024-02-13T06:00': 4.5,\n",
       " '2024-02-13T07:00': 4.1,\n",
       " '2024-02-13T08:00': 4.0,\n",
       " '2024-02-13T09:00': 5.5,\n",
       " '2024-02-13T10:00': 6.7,\n",
       " '2024-02-13T11:00': 7.9,\n",
       " '2024-02-13T12:00': 9.0,\n",
       " '2024-02-13T13:00': 8.9,\n",
       " '2024-02-13T14:00': 8.8,\n",
       " '2024-02-13T15:00': 8.7,\n",
       " '2024-02-13T16:00': 7.9,\n",
       " '2024-02-13T17:00': 7.4,\n",
       " '2024-02-13T18:00': 6.8,\n",
       " '2024-02-13T19:00': 7.0,\n",
       " '2024-02-13T20:00': 7.5,\n",
       " '2024-02-13T21:00': 7.7,\n",
       " '2024-02-13T22:00': 7.9,\n",
       " '2024-02-13T23:00': 8.1,\n",
       " '2024-02-14T00:00': 8.3,\n",
       " '2024-02-14T01:00': 8.6,\n",
       " '2024-02-14T02:00': 8.8,\n",
       " '2024-02-14T03:00': 9.1,\n",
       " '2024-02-14T04:00': 9.4,\n",
       " '2024-02-14T05:00': 9.8,\n",
       " '2024-02-14T06:00': 10.1,\n",
       " '2024-02-14T07:00': 10.0,\n",
       " '2024-02-14T08:00': 10.4,\n",
       " '2024-02-14T09:00': 10.6,\n",
       " '2024-02-14T10:00': 10.8,\n",
       " '2024-02-14T11:00': 11.2,\n",
       " '2024-02-14T12:00': 11.0,\n",
       " '2024-02-14T13:00': 11.0,\n",
       " '2024-02-14T14:00': 10.9,\n",
       " '2024-02-14T15:00': 10.6,\n",
       " '2024-02-14T16:00': 10.5,\n",
       " '2024-02-14T17:00': 10.6,\n",
       " '2024-02-14T18:00': 10.7,\n",
       " '2024-02-14T19:00': 11.0,\n",
       " '2024-02-14T20:00': 11.0,\n",
       " '2024-02-14T21:00': 10.6,\n",
       " '2024-02-14T22:00': 10.4,\n",
       " '2024-02-14T23:00': 10.5,\n",
       " '2024-02-15T00:00': 10.7,\n",
       " '2024-02-15T01:00': 10.6,\n",
       " '2024-02-15T02:00': 10.7,\n",
       " '2024-02-15T03:00': 10.8,\n",
       " '2024-02-15T04:00': 10.9,\n",
       " '2024-02-15T05:00': 11.1,\n",
       " '2024-02-15T06:00': 11.2,\n",
       " '2024-02-15T07:00': 11.3,\n",
       " '2024-02-15T08:00': 11.3,\n",
       " '2024-02-15T09:00': 11.6,\n",
       " '2024-02-15T10:00': 12.1,\n",
       " '2024-02-15T11:00': 12.9,\n",
       " '2024-02-15T12:00': 13.8,\n",
       " '2024-02-15T13:00': 14.6,\n",
       " '2024-02-15T14:00': 14.8,\n",
       " '2024-02-15T15:00': 15.0,\n",
       " '2024-02-15T16:00': 14.6,\n",
       " '2024-02-15T17:00': 13.9,\n",
       " '2024-02-15T18:00': 13.7,\n",
       " '2024-02-15T19:00': 13.4,\n",
       " '2024-02-15T20:00': 13.0,\n",
       " '2024-02-15T21:00': 12.9,\n",
       " '2024-02-15T22:00': 12.5,\n",
       " '2024-02-15T23:00': 12.0,\n",
       " '2024-02-16T00:00': 11.7,\n",
       " '2024-02-16T01:00': 11.5,\n",
       " '2024-02-16T02:00': 11.2,\n",
       " '2024-02-16T03:00': 11.2,\n",
       " '2024-02-16T04:00': 11.2,\n",
       " '2024-02-16T05:00': 11.2,\n",
       " '2024-02-16T06:00': 10.7,\n",
       " '2024-02-16T07:00': 10.3,\n",
       " '2024-02-16T08:00': 9.8,\n",
       " '2024-02-16T09:00': 9.8,\n",
       " '2024-02-16T10:00': 10.6,\n",
       " '2024-02-16T11:00': 10.6,\n",
       " '2024-02-16T12:00': 10.7,\n",
       " '2024-02-16T13:00': 10.7,\n",
       " '2024-02-16T14:00': 10.7,\n",
       " '2024-02-16T15:00': 10.5,\n",
       " '2024-02-16T16:00': 10.2,\n",
       " '2024-02-16T17:00': 9.7,\n",
       " '2024-02-16T18:00': 9.4,\n",
       " '2024-02-16T19:00': 9.2,\n",
       " '2024-02-16T20:00': 9.1,\n",
       " '2024-02-16T21:00': 9.0,\n",
       " '2024-02-16T22:00': 8.9,\n",
       " '2024-02-16T23:00': 8.8,\n",
       " '2024-02-17T00:00': 8.6,\n",
       " '2024-02-17T01:00': 8.5,\n",
       " '2024-02-17T02:00': 8.4,\n",
       " '2024-02-17T03:00': 8.3,\n",
       " '2024-02-17T04:00': 8.0,\n",
       " '2024-02-17T05:00': 7.8,\n",
       " '2024-02-17T06:00': 7.7,\n",
       " '2024-02-17T07:00': 7.8,\n",
       " '2024-02-17T08:00': 8.1,\n",
       " '2024-02-17T09:00': 8.6,\n",
       " '2024-02-17T10:00': 9.3,\n",
       " '2024-02-17T11:00': 10.2,\n",
       " '2024-02-17T12:00': 10.9,\n",
       " '2024-02-17T13:00': 11.3,\n",
       " '2024-02-17T14:00': 11.5,\n",
       " '2024-02-17T15:00': 11.6,\n",
       " '2024-02-17T16:00': 11.3,\n",
       " '2024-02-17T17:00': 10.8,\n",
       " '2024-02-17T18:00': 10.5,\n",
       " '2024-02-17T19:00': 10.5,\n",
       " '2024-02-17T20:00': 10.6,\n",
       " '2024-02-17T21:00': 10.7,\n",
       " '2024-02-17T22:00': 10.8,\n",
       " '2024-02-17T23:00': 10.8,\n",
       " '2024-02-18T00:00': 10.8,\n",
       " '2024-02-18T01:00': 10.7,\n",
       " '2024-02-18T02:00': 10.6,\n",
       " '2024-02-18T03:00': 10.5,\n",
       " '2024-02-18T04:00': 10.3,\n",
       " '2024-02-18T05:00': 10.1,\n",
       " '2024-02-18T06:00': 9.9,\n",
       " '2024-02-18T07:00': 10.5,\n",
       " '2024-02-18T08:00': 10.4,\n",
       " '2024-02-18T09:00': 10.4,\n",
       " '2024-02-18T10:00': 10.5,\n",
       " '2024-02-18T11:00': 10.6,\n",
       " '2024-02-18T12:00': 10.7,\n",
       " '2024-02-18T13:00': 10.6,\n",
       " '2024-02-18T14:00': 10.3,\n",
       " '2024-02-18T15:00': 10.0,\n",
       " '2024-02-18T16:00': 9.5,\n",
       " '2024-02-18T17:00': 9.0,\n",
       " '2024-02-18T18:00': 8.4,\n",
       " '2024-02-18T19:00': 7.8,\n",
       " '2024-02-18T20:00': 7.3,\n",
       " '2024-02-18T21:00': 6.9,\n",
       " '2024-02-18T22:00': 6.5,\n",
       " '2024-02-18T23:00': 6.3,\n",
       " '2024-02-19T00:00': 6.1,\n",
       " '2024-02-19T01:00': 6.1,\n",
       " '2024-02-19T02:00': 6.0,\n",
       " '2024-02-19T03:00': 6.0,\n",
       " '2024-02-19T04:00': 5.7,\n",
       " '2024-02-19T05:00': 5.3,\n",
       " '2024-02-19T06:00': 5.3,\n",
       " '2024-02-19T07:00': 5.6,\n",
       " '2024-02-19T08:00': 6.2,\n",
       " '2024-02-19T09:00': 7.0,\n",
       " '2024-02-19T10:00': 8.2,\n",
       " '2024-02-19T11:00': 9.7,\n",
       " '2024-02-19T12:00': 10.6,\n",
       " '2024-02-19T13:00': 10.9,\n",
       " '2024-02-19T14:00': 10.7,\n",
       " '2024-02-19T15:00': 10.1,\n",
       " '2024-02-19T16:00': 8.9,\n",
       " '2024-02-19T17:00': 7.3,\n",
       " '2024-02-19T18:00': 6.1,\n",
       " '2024-02-19T19:00': 5.8,\n",
       " '2024-02-19T20:00': 5.8,\n",
       " '2024-02-19T21:00': 6.0,\n",
       " '2024-02-19T22:00': 6.2,\n",
       " '2024-02-19T23:00': 6.6}"
      ]
     },
     "execution_count": 122,
     "metadata": {},
     "output_type": "execute_result"
    }
   ],
   "source": [
    "# SOLUTION\n",
    "time2temp = dict(zip(data[\"hourly\"][\"time\"], data[\"hourly\"][\"temperature_2m\"]))\n",
    "time2temp\n"
   ]
  }
 ],
 "metadata": {
  "kernelspec": {
   "display_name": "jupyter",
   "language": "python",
   "name": "python3"
  },
  "language_info": {
   "codemirror_mode": {
    "name": "ipython",
    "version": 3
   },
   "file_extension": ".py",
   "mimetype": "text/x-python",
   "name": "python",
   "nbconvert_exporter": "python",
   "pygments_lexer": "ipython3",
   "version": "3.12.0"
  },
  "orig_nbformat": 4,
  "vscode": {
   "interpreter": {
    "hash": "0fadeaac72bf3c14f9665939c662a31c8aa4e36681a8cd408ae34884627e6cff"
   }
  }
 },
 "nbformat": 4,
 "nbformat_minor": 2
}
